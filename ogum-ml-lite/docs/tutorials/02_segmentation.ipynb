{
 "cells": [
  {
   "cell_type": "markdown",
   "metadata": {},
   "source": [
    "# Tutorial 02 — Segmentation\n",
    "\n",
    "Use the densification segmentation helpers to identify stages and export\n",
    "heatmaps for reporting."
   ]
  },
  {
   "cell_type": "code",
   "execution_count": null,
   "metadata": {},
   "outputs": [],
   "source": [
    "from ogum_lite import segment_dataframe, prepare_segment_heatmap, render_segment_heatmap\n",
    "from ogum_lite.io_mapping import read_table\n",
    "\n",
    "table = read_table(\"examples/sps_sample.csv\")\n",
    "segments = segment_dataframe(table)\n",
    "heatmap = prepare_segment_heatmap(segments)\n",
    "render_segment_heatmap(heatmap)"
   ]
  }
 ],
 "metadata": {
  "kernelspec": {
   "display_name": "Python 3",
   "language": "python",
   "name": "python3"
  },
  "language_info": {
   "name": "python",
   "version": "3.11"
  }
 },
 "nbformat": 4,
 "nbformat_minor": 5
}
