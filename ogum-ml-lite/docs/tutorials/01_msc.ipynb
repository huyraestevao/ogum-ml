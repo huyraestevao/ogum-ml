{
 "cells": [
  {
   "cell_type": "markdown",
   "metadata": {},
   "source": [
    "# Tutorial 01 — Import & Master Sintering Curve\n",
    "\n",
    "This notebook demonstrates how to load raw densification data, compute θ(Ea)\n",
    "tables and build the master sintering curve using the Ogum-ML Python API."
   ]
  },
  {
   "cell_type": "code",
   "execution_count": null,
   "metadata": {},
   "outputs": [],
   "source": [
    "from ogum_lite import OgumLite, build_master_curve\n",
    "from ogum_lite.io_mapping import read_table\n",
    "\n",
    "table = read_table(\"examples/sps_sample.csv\")\n",
    "lite = OgumLite.from_dataframe(table)\n",
    "msc = build_master_curve(lite, activation_energies_kJ_mol=[300.0])\n",
    "msc.master_curve.plot()"
   ]
  }
 ],
 "metadata": {
  "kernelspec": {
   "display_name": "Python 3",
   "language": "python",
   "name": "python3"
  },
  "language_info": {
   "name": "python",
   "version": "3.11"
  }
 },
 "nbformat": 4,
 "nbformat_minor": 5
}
