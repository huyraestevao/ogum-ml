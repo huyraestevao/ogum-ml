{
 "cells": [
  {
   "cell_type": "markdown",
   "metadata": {},
   "source": [
    "# Tutorial 05 — Simulation workflow\n",
    "\n",
    "Run the physics-informed simulation components to validate densification\n",
    "profiles."
   ]
  },
  {
   "cell_type": "code",
   "execution_count": null,
   "metadata": {},
   "outputs": [],
   "source": [
    "from ogum_lite.sim.runner import run_simulation\n",
    "from ogum_lite.sim.config import SimulationConfig\n",
    "\n",
    "config = SimulationConfig.example()\n",
    "result = run_simulation(config)\n",
    "result.summary"
   ]
  }
 ],
 "metadata": {
  "kernelspec": {
   "display_name": "Python 3",
   "language": "python",
   "name": "python3"
  },
  "language_info": {
   "name": "python",
   "version": "3.11"
  }
 },
 "nbformat": 4,
 "nbformat_minor": 5
}
