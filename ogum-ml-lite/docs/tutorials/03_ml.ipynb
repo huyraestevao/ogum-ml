{
 "cells": [
  {
   "cell_type": "markdown",
   "metadata": {},
   "source": [
    "# Tutorial 03 — Machine learning benchmarks\n",
    "\n",
    "Train a classifier on engineered features and evaluate cross-validation\n",
    "metrics using the Ogum-ML pipelines."
   ]
  },
  {
   "cell_type": "code",
   "execution_count": null,
   "metadata": {},
   "outputs": [],
   "source": [
    "from ogum_lite.ml_experiments import run_benchmark_matrix\n",
    "from ogum_lite.features import build_feature_store\n",
    "from ogum_lite.io_mapping import read_table\n",
    "\n",
    "table = read_table(\"examples/sps_sample.csv\")\n",
    "feature_store = build_feature_store(table)\n",
    "run_benchmark_matrix(\n",
    "    feature_store,\n",
    "    targets=[\"technique\"],\n",
    "    feature_sets={\"theta\": [\"theta_Ea_300kJ\", \"theta_Ea_400kJ\"]},\n",
    "    models=[\"rf\"],\n",
    "    task=\"cls\",\n",
    ")
   ]
  }
 ],
 "metadata": {
  "kernelspec": {
   "display_name": "Python 3",
   "language": "python",
   "name": "python3"
  },
  "language_info": {
   "name": "python",
   "version": "3.11"
  }
 },
 "nbformat": 4,
 "nbformat_minor": 5
}
