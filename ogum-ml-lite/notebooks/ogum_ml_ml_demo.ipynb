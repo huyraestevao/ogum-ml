{
 "cells": [
  {
   "cell_type": "markdown",
   "metadata": {},
   "source": [
    "# Ogum ML Lite — Pipeline de ML (Fase 3)\n",
    "Este notebook sintetiza dados de sinterização, gera features via CLI e treina um classificador com validação GroupKFold."
   ]
  },
  {
   "cell_type": "code",
   "execution_count": null,
   "metadata": {},
   "outputs": [],
   "source": [
    "import numpy as np\n",
    "import pandas as pd\n",
    "from pathlib import Path\n",
    "\n",
    "rng = np.random.default_rng(42)\n",
    "records = []\n",
    "sample_ids = [f'S{i:02d}' for i in range(6)]\n",
    "techniques = ['Conventional', 'UHS', 'FS', 'SPS', 'Hybrid', 'FAST']\n",
    "for idx, (sample_id, tech) in enumerate(zip(sample_ids, techniques, strict=True)):\n",
    "    times = np.linspace(0, 1500, 50)\n",
    "    base_temp = 640 + 18 * idx\n",
    "    rate = 0.22 + 0.04 * idx\n",
    "    temps = base_temp + rate * times\n",
    "    dens_curve = 0.18 + 0.78 / (1 + np.exp(-(times - 800) / 110))\n",
    "    noise = rng.normal(scale=0.015, size=times.size)\n",
    "    dens = np.clip(dens_curve + 0.02 * idx + noise, 0, 0.995)\n",
    "    for t, temp, rho in zip(times, temps, dens, strict=True):\n",
    "        records.append({\n",
    "            'sample_id': sample_id,\n",
    "            'time_s': float(t),\n",
    "            'temp_C': float(temp),\n",
    "            'rho_rel': float(rho),\n",
    "            'technique': tech,\n",
    "        })\n",
    "df_long = pd.DataFrame(records)\n",
    "df_long.to_csv('ensaios_demo.csv', index=False)\n",
    "df_long.head()"
   ]
  },
  {
   "cell_type": "code",
   "execution_count": null,
   "metadata": {},
   "outputs": [],
   "source": [
    "!python -m ogum_lite.cli ml features --input ensaios_demo.csv --ea \"200,300,400\" --output demo_features.csv\n",
    "features = pd.read_csv('demo_features.csv')\n",
    "targets = df_long[['sample_id', 'technique']].drop_duplicates()\n",
    "features_ml = features.merge(targets, on='sample_id', how='left')\n",
    "features_ml.to_csv('demo_features_ml.csv', index=False)\n",
    "features_ml.head()"
   ]
  },
  {
   "cell_type": "code",
   "execution_count": null,
   "metadata": {},
   "outputs": [],
   "source": [
    "!python -m ogum_lite.cli ml train-cls \\\n",
    "    --table demo_features_ml.csv \\\n",
    "    --target technique \\\n",
    "    --group-col sample_id \\\n",
    "    --features heating_rate_med_C_per_s T_max_C y_final t_to_90pct_s theta_Ea_200kJ theta_Ea_300kJ \\\n",
    "    --outdir artifacts_demo/cls_technique"
   ]
  },
  {
   "cell_type": "code",
   "execution_count": null,
   "metadata": {},
   "outputs": [],
   "source": [
    "!python -m ogum_lite.cli ml predict --table demo_features_ml.csv --model artifacts_demo/cls_technique/classifier.joblib --out demo_preds.csv\n",
    "pd.read_csv('demo_preds.csv').head()"
   ]
  }
 ],
 "metadata": {
  "kernelspec": {
   "display_name": "Python 3",
   "language": "python",
   "name": "python3"
  },
  "language_info": {
   "name": "python",
   "version": "3.11"
  }
 },
 "nbformat": 4,
 "nbformat_minor": 5
}
