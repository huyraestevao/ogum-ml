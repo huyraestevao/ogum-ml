{
 "cells": [
  {
   "cell_type": "markdown",
   "metadata": {},
   "source": [
    "# Ogum ML Derivatives & Arrhenius Demo\n",
    "\n",
    "This notebook showcases the new preprocessing pipeline for Ogum ML Lite.\n",
    "We generate a synthetic dataset, compute derivatives, evaluate Arrhenius\n",
    "activation energies and assemble the stage-aware feature store."
   ]
  },
  {
   "cell_type": "code",
   "execution_count": null,
   "metadata": {},
   "outputs": [],
   "source": [
    "import numpy as np\n",
    "import pandas as pd\n",
    "from ogum_lite.io_mapping import ColumnMap, apply_mapping\n",
    "from ogum_lite.preprocess import derive_all\n",
    "from ogum_lite.arrhenius import arrhenius_feature_table\n",
    "from ogum_lite.features import build_feature_store\n",
    "\n",
    "# Synthetic raw spreadsheet mimicking Ogum 6.4 aliases\n",
    "time = np.linspace(0, 1800, 181)\n",
    "raw_df = pd.DataFrame(\n",
    "    {\n",
    "        'Sample': ['Demo'] * time.size,\n",
    "        'tempo_min': time / 60,\n",
    "        'temp_K': 873.15 + 0.12 * time,\n",
    "        'densidade_relativa': 0.4 + 0.6 * (1 - np.exp(-time / 600)),\n",
    "        'composition': 'Fe-2Cu',\n",
    "        'technique': 'Flash',\n",
    "    }\n",
    ")\n",
    "\n",
    "mapping = ColumnMap(\n",
    "    sample_id='Sample',\n",
    "    time_col='tempo_min',\n",
    "    temp_col='temp_K',\n",
    "    y_col='densidade_relativa',\n",
    "    composition='composition',\n",
    "    technique='technique',\n",
    "    time_unit='min',\n",
    "    temp_unit='K',\n",
    ")\n",
    "canonical = apply_mapping(raw_df, mapping)\n",
    "canonical.head()"
   ]
  },
  {
   "cell_type": "code",
   "execution_count": null,
   "metadata": {},
   "outputs": [],
   "source": [
    "derived = derive_all(canonical, smooth='savgol', window=9, poly=3)\n",
    "arrhenius = arrhenius_feature_table(derived)\n",
    "feature_store = build_feature_store(derived, theta_ea_kj=[200.0, 250.0])\n",
    "\n",
    "display(arrhenius)\n",
    "display(feature_store.head())"
   ]
  }
 ],
 "metadata": {
  "kernelspec": {
   "display_name": "Python 3",
   "language": "python",
   "name": "python3"
  },
  "language_info": {
   "codemirror_mode": {
    "name": "ipython",
    "version": 3
   },
   "file_extension": ".py",
   "mimetype": "text/x-python",
   "name": "python",
   "nbconvert_exporter": "python",
   "pygments_lexer": "ipython3",
   "version": "3.11"
  }
 },
 "nbformat": 4,
 "nbformat_minor": 5
}
