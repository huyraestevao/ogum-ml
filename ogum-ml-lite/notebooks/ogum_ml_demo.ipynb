{
 "cells": [
  {
   "cell_type": "code",
   "execution_count": null,
   "id": "02c77756",
   "metadata": {},
   "outputs": [],
   "source": [
    "import numpy as np\n",
    "import pandas as pd\n",
    "\n",
    "# Synthetic dataset with two samples\n",
    "np.random.seed(42)\n",
    "\n",
    "time = np.linspace(0, 600, 121)\n",
    "frames = []\n",
    "for idx, shift in enumerate([0.0, 18.0]):\n",
    "    rho = 1 - np.exp(-(time + shift) / 180)\n",
    "    temp = 25 + 3.2 * time + idx * 6\n",
    "    frames.append(\n",
    "        pd.DataFrame(\n",
    "            {\n",
    "                \"sample_id\": f\"S{idx}\",\n",
    "                \"time_s\": time,\n",
    "                \"temp_C\": temp,\n",
    "                \"rho_rel\": rho,\n",
    "            }\n",
    "        )\n",
    "    )\n",
    "\n",
    "df_long = pd.concat(frames, ignore_index=True)\n",
    "df_long.to_csv(\"synthetic_long.csv\", index=False)\n",
    "df_long.head()"
   ]
  },
  {
   "cell_type": "code",
   "execution_count": null,
   "id": "7d9de8c7",
   "metadata": {},
   "outputs": [],
   "source": [
    "!python -m ogum_lite.cli features --input synthetic_long.csv --ea \"200,300,400\" --output demo_features.csv --print\n",
    "\n",
    "import pandas as pd\n",
    "pd.read_csv(\"demo_features.csv\")"
   ]
  },
  {
   "cell_type": "code",
   "execution_count": null,
   "id": "1856e1d5",
   "metadata": {},
   "outputs": [],
   "source": [
    "!python -m ogum_lite.cli msc --input synthetic_long.csv --ea \"200,300,400\" --csv demo_msc.csv --png demo_msc.png\n",
    "\n",
    "import pandas as pd\n",
    "from IPython.display import Image\n",
    "\n",
    "pd.read_csv(\"demo_msc.csv\").head()\n",
    "Image(\"demo_msc.png\")"
   ]
  },
  {
   "cell_type": "markdown",
   "id": "5795bf12",
   "metadata": {},
   "source": [
    "## Próximos passos\n",
    "\n",
    "1. Substitua `synthetic_long.csv` pelo CSV dos seus ensaios no formato longo (`sample_id,time_s,temp_C,rho_rel`).\n",
    "2. Ajuste a lista de energias de ativação (`--ea`) conforme necessário.\n",
    "3. Explore a interface `python -m ogum_lite.cli ui` para testar rapidamente outros filtros e métricas."
   ]
  }
 ],
 "metadata": {},
 "nbformat": 4,
 "nbformat_minor": 5
}
